{
 "cells": [
  {
   "cell_type": "code",
   "execution_count": 2,
   "metadata": {},
   "outputs": [],
   "source": [
    "# imports \n",
    "import os\n",
    "import pandas as pd\n",
    "import numpy as np\n",
    "\n",
    "# load data\n",
    "train = pd.read_csv('../data/processed/train_data_processed.csv')\n",
    "test = pd.read_csv('../data/processed/test_data_processed.csv')\n",
    "val = pd.read_csv('../data/processed/val_data_processed.csv')\n"
   ]
  },
  {
   "cell_type": "code",
   "execution_count": 3,
   "metadata": {},
   "outputs": [],
   "source": [
    "# more feature engineering\n",
    "# use encoder to encode OCCURRED_ON_DATE column\n",
    "from sklearn.preprocessing import LabelEncoder\n",
    "le = LabelEncoder()\n",
    "train['OCCURRED_ON_DATE'] = le.fit_transform(train['OCCURRED_ON_DATE'])\n",
    "test['OCCURRED_ON_DATE'] = le.transform(test['OCCURRED_ON_DATE'])\n",
    "val['OCCURRED_ON_DATE'] = le.transform(val['OCCURRED_ON_DATE'])\n"
   ]
  },
  {
   "cell_type": "code",
   "execution_count": 5,
   "metadata": {},
   "outputs": [
    {
     "data": {
      "text/plain": [
       "['../models/datetime_encoder.pkl']"
      ]
     },
     "execution_count": 5,
     "metadata": {},
     "output_type": "execute_result"
    }
   ],
   "source": [
    "# save le \n",
    "import joblib\n",
    "joblib.dump(le, '../models/datetime_encoder.pkl')"
   ]
  },
  {
   "cell_type": "code",
   "execution_count": 6,
   "metadata": {},
   "outputs": [],
   "source": [
    "#drop _id column\n",
    "\n",
    "test = test.drop('_id', axis=1)\n",
    "val = val.drop('_id', axis=1)"
   ]
  },
  {
   "cell_type": "code",
   "execution_count": 8,
   "metadata": {},
   "outputs": [],
   "source": [
    "# define the target variable\n",
    "y_train = train['Severe_crimes']\n",
    "y_test = test['Severe_crimes']\n",
    "y_val = val['Severe_crimes']\n",
    "\n",
    "# define the features\n",
    "X_train = train.drop(['Severe_crimes'], axis=1)\n",
    "X_test = test.drop(['Severe_crimes'], axis=1)\n",
    "X_val = val.drop(['Severe_crimes'], axis=1)"
   ]
  },
  {
   "cell_type": "code",
   "execution_count": 10,
   "metadata": {},
   "outputs": [
    {
     "name": "stdout",
     "output_type": "stream",
     "text": [
      "Learning rate:  0.05\n",
      "Accuracy score (training): 0.994\n",
      "Accuracy score (validation): 0.994\n",
      "\n",
      "Learning rate:  0.1\n",
      "Accuracy score (training): 0.995\n",
      "Accuracy score (validation): 0.994\n",
      "\n",
      "Learning rate:  0.25\n",
      "Accuracy score (training): 0.995\n",
      "Accuracy score (validation): 0.994\n",
      "\n",
      "Learning rate:  0.5\n",
      "Accuracy score (training): 0.901\n",
      "Accuracy score (validation): 0.897\n",
      "\n",
      "Learning rate:  0.75\n",
      "Accuracy score (training): 0.568\n",
      "Accuracy score (validation): 0.566\n",
      "\n",
      "Learning rate:  1\n",
      "Accuracy score (training): 0.730\n",
      "Accuracy score (validation): 0.733\n",
      "\n"
     ]
    }
   ],
   "source": [
    "# use GradientBoostingClassifier to train the model\n",
    "from sklearn.ensemble import GradientBoostingClassifier\n",
    "from sklearn.metrics import accuracy_score\n",
    "from sklearn.model_selection import cross_val_score\n",
    "\n",
    "# test using different learning rates\n",
    "learning_rates = [0.05, 0.1, 0.25, 0.5, 0.75, 1]\n",
    "for learning_rate in learning_rates:\n",
    "    gb = GradientBoostingClassifier(n_estimators=101, learning_rate = learning_rate, max_features=2, max_depth = 4, random_state = 0)\n",
    "    gb.fit(X_train, y_train)\n",
    "    print(\"Learning rate: \", learning_rate)\n",
    "    print(\"Accuracy score (training): {0:.3f}\".format(gb.score(X_train, y_train)))\n",
    "    print(\"Accuracy score (validation): {0:.3f}\".format(gb.score(X_val, y_val)))\n",
    "    print()\n",
    "\n",
    "# use the best learning rate to train the model\n"
   ]
  },
  {
   "cell_type": "code",
   "execution_count": 12,
   "metadata": {},
   "outputs": [
    {
     "name": "stdout",
     "output_type": "stream",
     "text": [
      "Number of trees:  50\n",
      "Accuracy score (training): 0.994\n",
      "Accuracy score (validation): 0.994\n",
      "\n",
      "Number of trees:  100\n",
      "Accuracy score (training): 0.995\n",
      "Accuracy score (validation): 0.994\n",
      "\n",
      "Number of trees:  150\n",
      "Accuracy score (training): 0.995\n",
      "Accuracy score (validation): 0.994\n",
      "\n",
      "Number of trees:  200\n",
      "Accuracy score (training): 0.995\n",
      "Accuracy score (validation): 0.994\n",
      "\n",
      "Number of trees:  250\n",
      "Accuracy score (training): 0.995\n",
      "Accuracy score (validation): 0.994\n",
      "\n",
      "Number of trees:  300\n",
      "Accuracy score (training): 0.996\n",
      "Accuracy score (validation): 0.994\n",
      "\n"
     ]
    }
   ],
   "source": [
    "# test using different number of trees\n",
    "n_estimators = [50, 100, 150, 200, 250, 300]\n",
    "for n in n_estimators:\n",
    "    gb = GradientBoostingClassifier(n_estimators=n, learning_rate = 0.1, max_features=2, max_depth = 4, random_state = 0)\n",
    "    gb.fit(X_train, y_train)\n",
    "    print(\"Number of trees: \", n)\n",
    "    print(\"Accuracy score (training): {0:.3f}\".format(gb.score(X_train, y_train)))\n",
    "    print(\"Accuracy score (validation): {0:.3f}\".format(gb.score(X_val, y_val)))\n",
    "    print()\n",
    "\n",
    "# use the best number of trees to train the model\n",
    "    "
   ]
  },
  {
   "cell_type": "code",
   "execution_count": 15,
   "metadata": {},
   "outputs": [
    {
     "name": "stdout",
     "output_type": "stream",
     "text": [
      "Max depth:  1\n",
      "Accuracy score (training): 0.993\n",
      "Accuracy score (validation): 0.993\n",
      "\n",
      "Max depth:  2\n",
      "Accuracy score (training): 0.994\n",
      "Accuracy score (validation): 0.993\n",
      "\n",
      "Max depth:  4\n",
      "Accuracy score (training): 0.995\n",
      "Accuracy score (validation): 0.994\n",
      "\n",
      "Max depth:  8\n",
      "Accuracy score (training): 0.998\n",
      "Accuracy score (validation): 0.993\n",
      "\n",
      "Max depth:  10\n",
      "Accuracy score (training): 1.000\n",
      "Accuracy score (validation): 0.993\n",
      "\n",
      "Max depth:  20\n",
      "Accuracy score (training): 1.000\n",
      "Accuracy score (validation): 0.993\n",
      "\n"
     ]
    }
   ],
   "source": [
    "# use different max_depth\n",
    "number_of_depth = [1, 2, 4, 8, 10, 20]\n",
    "for depth in number_of_depth:\n",
    "    gb = GradientBoostingClassifier(n_estimators=101, learning_rate = 0.1, max_features=2, max_depth = depth, random_state = 0)\n",
    "    gb.fit(X_train, y_train)\n",
    "    print(\"Max depth: \", depth)\n",
    "    print(\"Accuracy score (training): {0:.3f}\".format(gb.score(X_train, y_train)))\n",
    "    print(\"Accuracy score (validation): {0:.3f}\".format(gb.score(X_val, y_val)))\n",
    "    print()\n",
    "\n",
    "    "
   ]
  },
  {
   "cell_type": "code",
   "execution_count": 17,
   "metadata": {},
   "outputs": [
    {
     "name": "stdout",
     "output_type": "stream",
     "text": [
      "Accuracy score (training): 0.995\n",
      "Accuracy score (validation): 0.994\n"
     ]
    },
    {
     "data": {
      "text/plain": [
       "['../models/gb_model.pkl']"
      ]
     },
     "execution_count": 17,
     "metadata": {},
     "output_type": "execute_result"
    }
   ],
   "source": [
    "gb_best = GradientBoostingClassifier(n_estimators=101, learning_rate = 0.1, max_features=2, max_depth = 4, random_state = 0)\n",
    "gb_best.fit(X_train, y_train)\n",
    "print(\"Accuracy score (training): {0:.3f}\".format(gb_best.score(X_train, y_train)))\n",
    "print(\"Accuracy score (validation): {0:.3f}\".format(gb_best.score(X_val, y_val)))\n",
    "\n",
    "# save the model\n",
    "joblib.dump(gb_best, '../models/gb_model.pkl')\n"
   ]
  },
  {
   "cell_type": "code",
   "execution_count": 18,
   "metadata": {},
   "outputs": [
    {
     "name": "stdout",
     "output_type": "stream",
     "text": [
      "Accuracy: 0.996\n"
     ]
    }
   ],
   "source": [
    "# use the model to make predictions on the test set\n",
    "y_pred = gb_best.predict(X_test)\n",
    "accuracy = accuracy_score(y_test, y_pred)\n",
    "print(\"Accuracy: {0:.3f}\".format(accuracy))\n"
   ]
  }
 ],
 "metadata": {
  "kernelspec": {
   "display_name": "BCAIML",
   "language": "python",
   "name": "python3"
  },
  "language_info": {
   "codemirror_mode": {
    "name": "ipython",
    "version": 3
   },
   "file_extension": ".py",
   "mimetype": "text/x-python",
   "name": "python",
   "nbconvert_exporter": "python",
   "pygments_lexer": "ipython3",
   "version": "3.11.5"
  }
 },
 "nbformat": 4,
 "nbformat_minor": 2
}
