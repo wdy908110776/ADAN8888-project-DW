{
 "cells": [
  {
   "cell_type": "code",
   "execution_count": 1,
   "metadata": {},
   "outputs": [],
   "source": [
    "# imports\n",
    "import pandas as pd\n",
    "import numpy as np\n",
    "\n",
    "import matplotlib.pyplot as plt\n",
    "\n",
    "# inport label encoder\n",
    "\n",
    "from sklearn.preprocessing import LabelEncoder\n"
   ]
  },
  {
   "cell_type": "code",
   "execution_count": 2,
   "metadata": {},
   "outputs": [],
   "source": [
    "# read in train,test, and val data\n",
    "train = pd.read_csv('../data/processed/train_data.csv')\n",
    "test = pd.read_csv('../data/processed/test_data.csv')\n",
    "val = pd.read_csv('../data/processed/val_data.csv')\n"
   ]
  },
  {
   "cell_type": "code",
   "execution_count": 3,
   "metadata": {},
   "outputs": [
    {
     "name": "stdout",
     "output_type": "stream",
     "text": [
      "Index(['_id', 'OFFENSE_CODE', 'OFFENSE_DESCRIPTION', 'DISTRICT',\n",
      "       'REPORTING_AREA', 'SHOOTING', 'OCCURRED_ON_DATE', 'YEAR', 'MONTH',\n",
      "       'DAY_OF_WEEK', 'HOUR', 'STREET', 'Severe_crimes'],\n",
      "      dtype='object')\n"
     ]
    }
   ],
   "source": [
    "# show all column names in train data\n",
    "print(train.columns)\n"
   ]
  },
  {
   "cell_type": "code",
   "execution_count": 4,
   "metadata": {},
   "outputs": [
    {
     "name": "stdout",
     "output_type": "stream",
     "text": [
      "_id                    0\n",
      "OFFENSE_CODE           0\n",
      "OFFENSE_DESCRIPTION    0\n",
      "DISTRICT               0\n",
      "REPORTING_AREA         0\n",
      "SHOOTING               0\n",
      "OCCURRED_ON_DATE       0\n",
      "YEAR                   0\n",
      "MONTH                  0\n",
      "DAY_OF_WEEK            0\n",
      "HOUR                   0\n",
      "STREET                 0\n",
      "Severe_crimes          0\n",
      "dtype: int64\n",
      "_id                    0\n",
      "OFFENSE_CODE           0\n",
      "OFFENSE_DESCRIPTION    0\n",
      "DISTRICT               0\n",
      "REPORTING_AREA         0\n",
      "SHOOTING               0\n",
      "OCCURRED_ON_DATE       0\n",
      "YEAR                   0\n",
      "MONTH                  0\n",
      "DAY_OF_WEEK            0\n",
      "HOUR                   0\n",
      "STREET                 0\n",
      "Severe_crimes          0\n",
      "dtype: int64\n"
     ]
    }
   ],
   "source": [
    "# find the number of missing values in each column\n",
    "print(train.isnull().sum())\n",
    "# find the number of blank values in each column\n",
    "print(train.isna().sum())\n",
    "\n"
   ]
  },
  {
   "cell_type": "code",
   "execution_count": 5,
   "metadata": {},
   "outputs": [
    {
     "name": "stdout",
     "output_type": "stream",
     "text": [
      "0\n"
     ]
    }
   ],
   "source": [
    "# find duplicate rows\n",
    "print(train.duplicated().sum())\n"
   ]
  },
  {
   "cell_type": "code",
   "execution_count": 6,
   "metadata": {},
   "outputs": [
    {
     "name": "stdout",
     "output_type": "stream",
     "text": [
      "185\n"
     ]
    }
   ],
   "source": [
    "# remove id column\n",
    "train = train.drop(columns=['_id'])\n",
    "# find duplicate rows\n",
    "print(train.duplicated().sum())"
   ]
  },
  {
   "cell_type": "code",
   "execution_count": 7,
   "metadata": {},
   "outputs": [
    {
     "name": "stdout",
     "output_type": "stream",
     "text": [
      "0\n"
     ]
    }
   ],
   "source": [
    "# remove duplicate rows\n",
    "train = train.drop_duplicates()\n",
    "# find duplicate rows\n",
    "print(train.duplicated().sum())\n"
   ]
  },
  {
   "cell_type": "code",
   "execution_count": 8,
   "metadata": {},
   "outputs": [
    {
     "data": {
      "text/html": [
       "<div>\n",
       "<style scoped>\n",
       "    .dataframe tbody tr th:only-of-type {\n",
       "        vertical-align: middle;\n",
       "    }\n",
       "\n",
       "    .dataframe tbody tr th {\n",
       "        vertical-align: top;\n",
       "    }\n",
       "\n",
       "    .dataframe thead th {\n",
       "        text-align: right;\n",
       "    }\n",
       "</style>\n",
       "<table border=\"1\" class=\"dataframe\">\n",
       "  <thead>\n",
       "    <tr style=\"text-align: right;\">\n",
       "      <th></th>\n",
       "      <th>OFFENSE_CODE</th>\n",
       "      <th>OFFENSE_DESCRIPTION</th>\n",
       "      <th>DISTRICT</th>\n",
       "      <th>REPORTING_AREA</th>\n",
       "      <th>SHOOTING</th>\n",
       "      <th>OCCURRED_ON_DATE</th>\n",
       "      <th>YEAR</th>\n",
       "      <th>MONTH</th>\n",
       "      <th>DAY_OF_WEEK</th>\n",
       "      <th>HOUR</th>\n",
       "      <th>STREET</th>\n",
       "      <th>Severe_crimes</th>\n",
       "    </tr>\n",
       "  </thead>\n",
       "  <tbody>\n",
       "    <tr>\n",
       "      <th>0</th>\n",
       "      <td>520</td>\n",
       "      <td>BURGLARY - RESIDENTIAL</td>\n",
       "      <td>C6</td>\n",
       "      <td>194</td>\n",
       "      <td>0</td>\n",
       "      <td>2023-09-05 08:03:00+00</td>\n",
       "      <td>2023</td>\n",
       "      <td>9</td>\n",
       "      <td>Tuesday</td>\n",
       "      <td>8</td>\n",
       "      <td>DORCHESTER AVE</td>\n",
       "      <td>0</td>\n",
       "    </tr>\n",
       "    <tr>\n",
       "      <th>1</th>\n",
       "      <td>3821</td>\n",
       "      <td>M/V ACCIDENT - INVOLVING PEDESTRIAN - NO INJURY</td>\n",
       "      <td>E13</td>\n",
       "      <td>303</td>\n",
       "      <td>0</td>\n",
       "      <td>2023-11-13 18:57:00+00</td>\n",
       "      <td>2023</td>\n",
       "      <td>11</td>\n",
       "      <td>Monday</td>\n",
       "      <td>18</td>\n",
       "      <td>COLUMBUS AVE &amp; AMORY ST\\nROXBURY  MA 02119\\nUN...</td>\n",
       "      <td>0</td>\n",
       "    </tr>\n",
       "    <tr>\n",
       "      <th>2</th>\n",
       "      <td>3114</td>\n",
       "      <td>ASSAULT - SIMPLE</td>\n",
       "      <td>E13</td>\n",
       "      <td>912</td>\n",
       "      <td>1</td>\n",
       "      <td>2023-09-11 00:06:00+00</td>\n",
       "      <td>2023</td>\n",
       "      <td>9</td>\n",
       "      <td>Monday</td>\n",
       "      <td>0</td>\n",
       "      <td>CENTRE ST</td>\n",
       "      <td>1</td>\n",
       "    </tr>\n",
       "    <tr>\n",
       "      <th>3</th>\n",
       "      <td>3801</td>\n",
       "      <td>M/V ACCIDENT - OTHER</td>\n",
       "      <td>D4</td>\n",
       "      <td>167</td>\n",
       "      <td>0</td>\n",
       "      <td>2023-09-02 10:48:00+00</td>\n",
       "      <td>2023</td>\n",
       "      <td>9</td>\n",
       "      <td>Saturday</td>\n",
       "      <td>10</td>\n",
       "      <td>HARRISON AVE</td>\n",
       "      <td>0</td>\n",
       "    </tr>\n",
       "    <tr>\n",
       "      <th>4</th>\n",
       "      <td>3502</td>\n",
       "      <td>MISSING PERSON - LOCATED</td>\n",
       "      <td>E5</td>\n",
       "      <td>691</td>\n",
       "      <td>0</td>\n",
       "      <td>2023-04-27 13:30:00+00</td>\n",
       "      <td>2023</td>\n",
       "      <td>4</td>\n",
       "      <td>Thursday</td>\n",
       "      <td>13</td>\n",
       "      <td>CENTRE ST</td>\n",
       "      <td>0</td>\n",
       "    </tr>\n",
       "  </tbody>\n",
       "</table>\n",
       "</div>"
      ],
      "text/plain": [
       "   OFFENSE_CODE                              OFFENSE_DESCRIPTION DISTRICT  \\\n",
       "0           520                           BURGLARY - RESIDENTIAL       C6   \n",
       "1          3821  M/V ACCIDENT - INVOLVING PEDESTRIAN - NO INJURY      E13   \n",
       "2          3114                                 ASSAULT - SIMPLE      E13   \n",
       "3          3801                             M/V ACCIDENT - OTHER       D4   \n",
       "4          3502                         MISSING PERSON - LOCATED       E5   \n",
       "\n",
       "  REPORTING_AREA  SHOOTING        OCCURRED_ON_DATE  YEAR  MONTH DAY_OF_WEEK  \\\n",
       "0            194         0  2023-09-05 08:03:00+00  2023      9     Tuesday   \n",
       "1            303         0  2023-11-13 18:57:00+00  2023     11      Monday   \n",
       "2            912         1  2023-09-11 00:06:00+00  2023      9      Monday   \n",
       "3            167         0  2023-09-02 10:48:00+00  2023      9    Saturday   \n",
       "4            691         0  2023-04-27 13:30:00+00  2023      4    Thursday   \n",
       "\n",
       "   HOUR                                             STREET  Severe_crimes  \n",
       "0     8                                     DORCHESTER AVE              0  \n",
       "1    18  COLUMBUS AVE & AMORY ST\\nROXBURY  MA 02119\\nUN...              0  \n",
       "2     0                                          CENTRE ST              1  \n",
       "3    10                                       HARRISON AVE              0  \n",
       "4    13                                          CENTRE ST              0  "
      ]
     },
     "execution_count": 8,
     "metadata": {},
     "output_type": "execute_result"
    }
   ],
   "source": [
    "train.head()"
   ]
  },
  {
   "cell_type": "code",
   "execution_count": 9,
   "metadata": {},
   "outputs": [
    {
     "data": {
      "text/html": [
       "<div>\n",
       "<style scoped>\n",
       "    .dataframe tbody tr th:only-of-type {\n",
       "        vertical-align: middle;\n",
       "    }\n",
       "\n",
       "    .dataframe tbody tr th {\n",
       "        vertical-align: top;\n",
       "    }\n",
       "\n",
       "    .dataframe thead th {\n",
       "        text-align: right;\n",
       "    }\n",
       "</style>\n",
       "<table border=\"1\" class=\"dataframe\">\n",
       "  <thead>\n",
       "    <tr style=\"text-align: right;\">\n",
       "      <th></th>\n",
       "      <th>OFFENSE_CODE</th>\n",
       "      <th>OFFENSE_DESCRIPTION</th>\n",
       "      <th>DISTRICT</th>\n",
       "      <th>OCCURRED_ON_DATE</th>\n",
       "      <th>YEAR</th>\n",
       "      <th>MONTH</th>\n",
       "      <th>DAY_OF_WEEK</th>\n",
       "      <th>HOUR</th>\n",
       "      <th>STREET</th>\n",
       "      <th>Severe_crimes</th>\n",
       "    </tr>\n",
       "  </thead>\n",
       "  <tbody>\n",
       "    <tr>\n",
       "      <th>0</th>\n",
       "      <td>520</td>\n",
       "      <td>BURGLARY - RESIDENTIAL</td>\n",
       "      <td>C6</td>\n",
       "      <td>2023-09-05 08:03:00+00</td>\n",
       "      <td>2023</td>\n",
       "      <td>9</td>\n",
       "      <td>Tuesday</td>\n",
       "      <td>8</td>\n",
       "      <td>DORCHESTER AVE</td>\n",
       "      <td>0</td>\n",
       "    </tr>\n",
       "    <tr>\n",
       "      <th>1</th>\n",
       "      <td>3821</td>\n",
       "      <td>M/V ACCIDENT - INVOLVING PEDESTRIAN - NO INJURY</td>\n",
       "      <td>E13</td>\n",
       "      <td>2023-11-13 18:57:00+00</td>\n",
       "      <td>2023</td>\n",
       "      <td>11</td>\n",
       "      <td>Monday</td>\n",
       "      <td>18</td>\n",
       "      <td>COLUMBUS AVE &amp; AMORY ST\\nROXBURY  MA 02119\\nUN...</td>\n",
       "      <td>0</td>\n",
       "    </tr>\n",
       "    <tr>\n",
       "      <th>2</th>\n",
       "      <td>3114</td>\n",
       "      <td>ASSAULT - SIMPLE</td>\n",
       "      <td>E13</td>\n",
       "      <td>2023-09-11 00:06:00+00</td>\n",
       "      <td>2023</td>\n",
       "      <td>9</td>\n",
       "      <td>Monday</td>\n",
       "      <td>0</td>\n",
       "      <td>CENTRE ST</td>\n",
       "      <td>1</td>\n",
       "    </tr>\n",
       "    <tr>\n",
       "      <th>3</th>\n",
       "      <td>3801</td>\n",
       "      <td>M/V ACCIDENT - OTHER</td>\n",
       "      <td>D4</td>\n",
       "      <td>2023-09-02 10:48:00+00</td>\n",
       "      <td>2023</td>\n",
       "      <td>9</td>\n",
       "      <td>Saturday</td>\n",
       "      <td>10</td>\n",
       "      <td>HARRISON AVE</td>\n",
       "      <td>0</td>\n",
       "    </tr>\n",
       "    <tr>\n",
       "      <th>4</th>\n",
       "      <td>3502</td>\n",
       "      <td>MISSING PERSON - LOCATED</td>\n",
       "      <td>E5</td>\n",
       "      <td>2023-04-27 13:30:00+00</td>\n",
       "      <td>2023</td>\n",
       "      <td>4</td>\n",
       "      <td>Thursday</td>\n",
       "      <td>13</td>\n",
       "      <td>CENTRE ST</td>\n",
       "      <td>0</td>\n",
       "    </tr>\n",
       "  </tbody>\n",
       "</table>\n",
       "</div>"
      ],
      "text/plain": [
       "   OFFENSE_CODE                              OFFENSE_DESCRIPTION DISTRICT  \\\n",
       "0           520                           BURGLARY - RESIDENTIAL       C6   \n",
       "1          3821  M/V ACCIDENT - INVOLVING PEDESTRIAN - NO INJURY      E13   \n",
       "2          3114                                 ASSAULT - SIMPLE      E13   \n",
       "3          3801                             M/V ACCIDENT - OTHER       D4   \n",
       "4          3502                         MISSING PERSON - LOCATED       E5   \n",
       "\n",
       "         OCCURRED_ON_DATE  YEAR  MONTH DAY_OF_WEEK  HOUR  \\\n",
       "0  2023-09-05 08:03:00+00  2023      9     Tuesday     8   \n",
       "1  2023-11-13 18:57:00+00  2023     11      Monday    18   \n",
       "2  2023-09-11 00:06:00+00  2023      9      Monday     0   \n",
       "3  2023-09-02 10:48:00+00  2023      9    Saturday    10   \n",
       "4  2023-04-27 13:30:00+00  2023      4    Thursday    13   \n",
       "\n",
       "                                              STREET  Severe_crimes  \n",
       "0                                     DORCHESTER AVE              0  \n",
       "1  COLUMBUS AVE & AMORY ST\\nROXBURY  MA 02119\\nUN...              0  \n",
       "2                                          CENTRE ST              1  \n",
       "3                                       HARRISON AVE              0  \n",
       "4                                          CENTRE ST              0  "
      ]
     },
     "execution_count": 9,
     "metadata": {},
     "output_type": "execute_result"
    }
   ],
   "source": [
    "# remove columns that are not needed \n",
    "\n",
    "# remove REPORTING_AREA, SHOOTING\n",
    "train = train.drop(columns=['REPORTING_AREA', 'SHOOTING'])\n",
    "train.head()"
   ]
  },
  {
   "cell_type": "code",
   "execution_count": 10,
   "metadata": {},
   "outputs": [],
   "source": [
    "# remove YEAR since its all 2023\n",
    "train = train.drop(columns=['YEAR'])"
   ]
  },
  {
   "cell_type": "code",
   "execution_count": 11,
   "metadata": {},
   "outputs": [
    {
     "data": {
      "text/plain": [
       "OFFENSE_CODE            int64\n",
       "OFFENSE_DESCRIPTION    object\n",
       "DISTRICT               object\n",
       "OCCURRED_ON_DATE       object\n",
       "MONTH                   int64\n",
       "DAY_OF_WEEK            object\n",
       "HOUR                    int64\n",
       "STREET                 object\n",
       "Severe_crimes           int64\n",
       "dtype: object"
      ]
     },
     "execution_count": 11,
     "metadata": {},
     "output_type": "execute_result"
    }
   ],
   "source": [
    "# check the data types of each column\n",
    "train.dtypes"
   ]
  },
  {
   "cell_type": "code",
   "execution_count": 12,
   "metadata": {},
   "outputs": [],
   "source": [
    "# change OCCURRED_ON_DATE to datetime\n",
    "train['OCCURRED_ON_DATE'] = pd.to_datetime(train['OCCURRED_ON_DATE'])\n"
   ]
  },
  {
   "cell_type": "code",
   "execution_count": 13,
   "metadata": {},
   "outputs": [],
   "source": [
    "# change day of week to numbers monday = 0, sunday = 6\n",
    "train['DAY_OF_WEEK'] = train['OCCURRED_ON_DATE'].dt.dayofweek\n",
    "train.head()\n",
    "\n",
    "# remove year from OCCURRED_ON_DATE\n",
    "train['OCCURRED_ON_DATE'] = train['OCCURRED_ON_DATE'].dt.strftime('%m-%d')"
   ]
  },
  {
   "cell_type": "code",
   "execution_count": 14,
   "metadata": {},
   "outputs": [
    {
     "data": {
      "text/html": [
       "<div>\n",
       "<style scoped>\n",
       "    .dataframe tbody tr th:only-of-type {\n",
       "        vertical-align: middle;\n",
       "    }\n",
       "\n",
       "    .dataframe tbody tr th {\n",
       "        vertical-align: top;\n",
       "    }\n",
       "\n",
       "    .dataframe thead th {\n",
       "        text-align: right;\n",
       "    }\n",
       "</style>\n",
       "<table border=\"1\" class=\"dataframe\">\n",
       "  <thead>\n",
       "    <tr style=\"text-align: right;\">\n",
       "      <th></th>\n",
       "      <th>OFFENSE_CODE</th>\n",
       "      <th>OFFENSE_DESCRIPTION</th>\n",
       "      <th>DISTRICT</th>\n",
       "      <th>OCCURRED_ON_DATE</th>\n",
       "      <th>MONTH</th>\n",
       "      <th>DAY_OF_WEEK</th>\n",
       "      <th>HOUR</th>\n",
       "      <th>STREET</th>\n",
       "      <th>Severe_crimes</th>\n",
       "    </tr>\n",
       "  </thead>\n",
       "  <tbody>\n",
       "    <tr>\n",
       "      <th>0</th>\n",
       "      <td>520</td>\n",
       "      <td>BURGLARY - RESIDENTIAL</td>\n",
       "      <td>C6</td>\n",
       "      <td>09-05</td>\n",
       "      <td>9</td>\n",
       "      <td>1</td>\n",
       "      <td>8</td>\n",
       "      <td>DORCHESTER AVE</td>\n",
       "      <td>0</td>\n",
       "    </tr>\n",
       "    <tr>\n",
       "      <th>1</th>\n",
       "      <td>3821</td>\n",
       "      <td>M/V ACCIDENT - INVOLVING PEDESTRIAN - NO INJURY</td>\n",
       "      <td>E13</td>\n",
       "      <td>11-13</td>\n",
       "      <td>11</td>\n",
       "      <td>0</td>\n",
       "      <td>18</td>\n",
       "      <td>COLUMBUS AVE &amp; AMORY ST\\nROXBURY  MA 02119\\nUN...</td>\n",
       "      <td>0</td>\n",
       "    </tr>\n",
       "    <tr>\n",
       "      <th>2</th>\n",
       "      <td>3114</td>\n",
       "      <td>ASSAULT - SIMPLE</td>\n",
       "      <td>E13</td>\n",
       "      <td>09-11</td>\n",
       "      <td>9</td>\n",
       "      <td>0</td>\n",
       "      <td>0</td>\n",
       "      <td>CENTRE ST</td>\n",
       "      <td>1</td>\n",
       "    </tr>\n",
       "    <tr>\n",
       "      <th>3</th>\n",
       "      <td>3801</td>\n",
       "      <td>M/V ACCIDENT - OTHER</td>\n",
       "      <td>D4</td>\n",
       "      <td>09-02</td>\n",
       "      <td>9</td>\n",
       "      <td>5</td>\n",
       "      <td>10</td>\n",
       "      <td>HARRISON AVE</td>\n",
       "      <td>0</td>\n",
       "    </tr>\n",
       "    <tr>\n",
       "      <th>4</th>\n",
       "      <td>3502</td>\n",
       "      <td>MISSING PERSON - LOCATED</td>\n",
       "      <td>E5</td>\n",
       "      <td>04-27</td>\n",
       "      <td>4</td>\n",
       "      <td>3</td>\n",
       "      <td>13</td>\n",
       "      <td>CENTRE ST</td>\n",
       "      <td>0</td>\n",
       "    </tr>\n",
       "  </tbody>\n",
       "</table>\n",
       "</div>"
      ],
      "text/plain": [
       "   OFFENSE_CODE                              OFFENSE_DESCRIPTION DISTRICT  \\\n",
       "0           520                           BURGLARY - RESIDENTIAL       C6   \n",
       "1          3821  M/V ACCIDENT - INVOLVING PEDESTRIAN - NO INJURY      E13   \n",
       "2          3114                                 ASSAULT - SIMPLE      E13   \n",
       "3          3801                             M/V ACCIDENT - OTHER       D4   \n",
       "4          3502                         MISSING PERSON - LOCATED       E5   \n",
       "\n",
       "  OCCURRED_ON_DATE  MONTH  DAY_OF_WEEK  HOUR  \\\n",
       "0            09-05      9            1     8   \n",
       "1            11-13     11            0    18   \n",
       "2            09-11      9            0     0   \n",
       "3            09-02      9            5    10   \n",
       "4            04-27      4            3    13   \n",
       "\n",
       "                                              STREET  Severe_crimes  \n",
       "0                                     DORCHESTER AVE              0  \n",
       "1  COLUMBUS AVE & AMORY ST\\nROXBURY  MA 02119\\nUN...              0  \n",
       "2                                          CENTRE ST              1  \n",
       "3                                       HARRISON AVE              0  \n",
       "4                                          CENTRE ST              0  "
      ]
     },
     "execution_count": 14,
     "metadata": {},
     "output_type": "execute_result"
    }
   ],
   "source": [
    "train.head()"
   ]
  },
  {
   "cell_type": "code",
   "execution_count": 15,
   "metadata": {},
   "outputs": [
    {
     "data": {
      "text/html": [
       "<div>\n",
       "<style scoped>\n",
       "    .dataframe tbody tr th:only-of-type {\n",
       "        vertical-align: middle;\n",
       "    }\n",
       "\n",
       "    .dataframe tbody tr th {\n",
       "        vertical-align: top;\n",
       "    }\n",
       "\n",
       "    .dataframe thead th {\n",
       "        text-align: right;\n",
       "    }\n",
       "</style>\n",
       "<table border=\"1\" class=\"dataframe\">\n",
       "  <thead>\n",
       "    <tr style=\"text-align: right;\">\n",
       "      <th></th>\n",
       "      <th>OFFENSE_CODE</th>\n",
       "      <th>OFFENSE_DESCRIPTION</th>\n",
       "      <th>DISTRICT</th>\n",
       "      <th>OCCURRED_ON_DATE</th>\n",
       "      <th>MONTH</th>\n",
       "      <th>DAY_OF_WEEK</th>\n",
       "      <th>HOUR</th>\n",
       "      <th>STREET</th>\n",
       "      <th>Severe_crimes</th>\n",
       "    </tr>\n",
       "  </thead>\n",
       "  <tbody>\n",
       "    <tr>\n",
       "      <th>0</th>\n",
       "      <td>520</td>\n",
       "      <td>BURGLARYRESIDENTIAL</td>\n",
       "      <td>C6</td>\n",
       "      <td>09-05</td>\n",
       "      <td>9</td>\n",
       "      <td>1</td>\n",
       "      <td>8</td>\n",
       "      <td>DORCHESTER AVE</td>\n",
       "      <td>0</td>\n",
       "    </tr>\n",
       "    <tr>\n",
       "      <th>1</th>\n",
       "      <td>3821</td>\n",
       "      <td>MVACCIDENTINVOLVINGPEDESTRIANNOINJURY</td>\n",
       "      <td>E13</td>\n",
       "      <td>11-13</td>\n",
       "      <td>11</td>\n",
       "      <td>0</td>\n",
       "      <td>18</td>\n",
       "      <td>COLUMBUS AVE &amp; AMORY ST\\nROXBURY  MA 02119\\nUN...</td>\n",
       "      <td>0</td>\n",
       "    </tr>\n",
       "    <tr>\n",
       "      <th>2</th>\n",
       "      <td>3114</td>\n",
       "      <td>ASSAULTSIMPLE</td>\n",
       "      <td>E13</td>\n",
       "      <td>09-11</td>\n",
       "      <td>9</td>\n",
       "      <td>0</td>\n",
       "      <td>0</td>\n",
       "      <td>CENTRE ST</td>\n",
       "      <td>1</td>\n",
       "    </tr>\n",
       "    <tr>\n",
       "      <th>3</th>\n",
       "      <td>3801</td>\n",
       "      <td>MVACCIDENTOTHER</td>\n",
       "      <td>D4</td>\n",
       "      <td>09-02</td>\n",
       "      <td>9</td>\n",
       "      <td>5</td>\n",
       "      <td>10</td>\n",
       "      <td>HARRISON AVE</td>\n",
       "      <td>0</td>\n",
       "    </tr>\n",
       "    <tr>\n",
       "      <th>4</th>\n",
       "      <td>3502</td>\n",
       "      <td>MISSINGPERSONLOCATED</td>\n",
       "      <td>E5</td>\n",
       "      <td>04-27</td>\n",
       "      <td>4</td>\n",
       "      <td>3</td>\n",
       "      <td>13</td>\n",
       "      <td>CENTRE ST</td>\n",
       "      <td>0</td>\n",
       "    </tr>\n",
       "  </tbody>\n",
       "</table>\n",
       "</div>"
      ],
      "text/plain": [
       "   OFFENSE_CODE                    OFFENSE_DESCRIPTION DISTRICT  \\\n",
       "0           520                    BURGLARYRESIDENTIAL       C6   \n",
       "1          3821  MVACCIDENTINVOLVINGPEDESTRIANNOINJURY      E13   \n",
       "2          3114                          ASSAULTSIMPLE      E13   \n",
       "3          3801                        MVACCIDENTOTHER       D4   \n",
       "4          3502                   MISSINGPERSONLOCATED       E5   \n",
       "\n",
       "  OCCURRED_ON_DATE  MONTH  DAY_OF_WEEK  HOUR  \\\n",
       "0            09-05      9            1     8   \n",
       "1            11-13     11            0    18   \n",
       "2            09-11      9            0     0   \n",
       "3            09-02      9            5    10   \n",
       "4            04-27      4            3    13   \n",
       "\n",
       "                                              STREET  Severe_crimes  \n",
       "0                                     DORCHESTER AVE              0  \n",
       "1  COLUMBUS AVE & AMORY ST\\nROXBURY  MA 02119\\nUN...              0  \n",
       "2                                          CENTRE ST              1  \n",
       "3                                       HARRISON AVE              0  \n",
       "4                                          CENTRE ST              0  "
      ]
     },
     "execution_count": 15,
     "metadata": {},
     "output_type": "execute_result"
    }
   ],
   "source": [
    "# Remove spaces in OFFENSE_DESCRIPTION\n",
    "train['OFFENSE_DESCRIPTION'] = train['OFFENSE_DESCRIPTION'].str.replace(' ', '')\n",
    "remove = ['-', '(', ')', '/']\n",
    "for r in remove:\n",
    "    train['OFFENSE_DESCRIPTION'] = train['OFFENSE_DESCRIPTION'].str.replace(r, '')\n",
    "\n",
    "\n",
    "    \n",
    "\n",
    "train.head()"
   ]
  },
  {
   "cell_type": "code",
   "execution_count": 16,
   "metadata": {},
   "outputs": [
    {
     "data": {
      "text/plain": [
       "OFFENSE_CODE            int64\n",
       "OFFENSE_DESCRIPTION    object\n",
       "DISTRICT               object\n",
       "OCCURRED_ON_DATE       object\n",
       "MONTH                   int64\n",
       "DAY_OF_WEEK             int32\n",
       "HOUR                    int64\n",
       "STREET                 object\n",
       "Severe_crimes           int64\n",
       "dtype: object"
      ]
     },
     "execution_count": 16,
     "metadata": {},
     "output_type": "execute_result"
    }
   ],
   "source": [
    "# do the same for test and val data\n",
    "test = test.drop(columns=['REPORTING_AREA', 'SHOOTING', 'YEAR'])\n",
    "\n",
    "val = val.drop(columns=['REPORTING_AREA', 'SHOOTING', 'YEAR'])\n",
    "\n",
    "# change OCCURRED_ON_DATE to datetime\n",
    "test['OCCURRED_ON_DATE'] = pd.to_datetime(test['OCCURRED_ON_DATE'])\n",
    "val['OCCURRED_ON_DATE'] = pd.to_datetime(val['OCCURRED_ON_DATE'])\n",
    "\n",
    "# change day of week to numbers monday = 0, sunday = 6\n",
    "test['DAY_OF_WEEK'] = test['OCCURRED_ON_DATE'].dt.dayofweek\n",
    "val['DAY_OF_WEEK'] = val['OCCURRED_ON_DATE'].dt.dayofweek\n",
    "\n",
    "# remove year from OCCURRED_ON_DATE\n",
    "test['OCCURRED_ON_DATE'] = test['OCCURRED_ON_DATE'].dt.strftime('%m-%d')\n",
    "val['OCCURRED_ON_DATE'] = val['OCCURRED_ON_DATE'].dt.strftime('%m-%d')\n",
    "\n",
    "# Remove spaces in OFFENSE_DESCRIPTION\n",
    "test['OFFENSE_DESCRIPTION'] = test['OFFENSE_DESCRIPTION'].str.replace(' ', '')\n",
    "val['OFFENSE_DESCRIPTION'] = val['OFFENSE_DESCRIPTION'].str.replace(' ', '')\n",
    "\n",
    "for r in remove:\n",
    "    test['OFFENSE_DESCRIPTION'] = test['OFFENSE_DESCRIPTION'].str.replace(r, '')\n",
    "    val['OFFENSE_DESCRIPTION'] = val['OFFENSE_DESCRIPTION'].str.replace(r, '')\n",
    "\n",
    "# check the data types of each column\n",
    "train.dtypes\n"
   ]
  },
  {
   "cell_type": "code",
   "execution_count": 17,
   "metadata": {},
   "outputs": [],
   "source": [
    "# remove street column\n",
    "train = train.drop(columns=['STREET'])\n",
    "test = test.drop(columns=['STREET'])\n",
    "val = val.drop(columns=['STREET'])\n"
   ]
  },
  {
   "cell_type": "code",
   "execution_count": 18,
   "metadata": {},
   "outputs": [],
   "source": [
    "# encode all non-numeric columns\n",
    "# reset the label encoder\n",
    "le_description = LabelEncoder()\n",
    "le_district = LabelEncoder()\n",
    "\n",
    "\n",
    "# fit and transform the label encoder\n",
    "train['OFFENSE_DESCRIPTION'] = le_description.fit_transform(train['OFFENSE_DESCRIPTION'])\n",
    "train['DISTRICT'] = le_district.fit_transform(train['DISTRICT'])\n",
    "\n",
    "\n",
    "\n",
    "\n",
    "\n",
    "\n",
    "\n",
    "\n",
    "\n"
   ]
  },
  {
   "cell_type": "code",
   "execution_count": 19,
   "metadata": {},
   "outputs": [
    {
     "data": {
      "text/html": [
       "<div>\n",
       "<style scoped>\n",
       "    .dataframe tbody tr th:only-of-type {\n",
       "        vertical-align: middle;\n",
       "    }\n",
       "\n",
       "    .dataframe tbody tr th {\n",
       "        vertical-align: top;\n",
       "    }\n",
       "\n",
       "    .dataframe thead th {\n",
       "        text-align: right;\n",
       "    }\n",
       "</style>\n",
       "<table border=\"1\" class=\"dataframe\">\n",
       "  <thead>\n",
       "    <tr style=\"text-align: right;\">\n",
       "      <th></th>\n",
       "      <th>OFFENSE_CODE</th>\n",
       "      <th>OFFENSE_DESCRIPTION</th>\n",
       "      <th>DISTRICT</th>\n",
       "      <th>OCCURRED_ON_DATE</th>\n",
       "      <th>MONTH</th>\n",
       "      <th>DAY_OF_WEEK</th>\n",
       "      <th>HOUR</th>\n",
       "      <th>Severe_crimes</th>\n",
       "    </tr>\n",
       "  </thead>\n",
       "  <tbody>\n",
       "    <tr>\n",
       "      <th>0</th>\n",
       "      <td>520</td>\n",
       "      <td>15</td>\n",
       "      <td>6</td>\n",
       "      <td>09-05</td>\n",
       "      <td>9</td>\n",
       "      <td>1</td>\n",
       "      <td>8</td>\n",
       "      <td>0</td>\n",
       "    </tr>\n",
       "    <tr>\n",
       "      <th>1</th>\n",
       "      <td>3821</td>\n",
       "      <td>69</td>\n",
       "      <td>9</td>\n",
       "      <td>11-13</td>\n",
       "      <td>11</td>\n",
       "      <td>0</td>\n",
       "      <td>18</td>\n",
       "      <td>0</td>\n",
       "    </tr>\n",
       "    <tr>\n",
       "      <th>2</th>\n",
       "      <td>3114</td>\n",
       "      <td>6</td>\n",
       "      <td>9</td>\n",
       "      <td>09-11</td>\n",
       "      <td>9</td>\n",
       "      <td>0</td>\n",
       "      <td>0</td>\n",
       "      <td>1</td>\n",
       "    </tr>\n",
       "    <tr>\n",
       "      <th>3</th>\n",
       "      <td>3801</td>\n",
       "      <td>70</td>\n",
       "      <td>8</td>\n",
       "      <td>09-02</td>\n",
       "      <td>9</td>\n",
       "      <td>5</td>\n",
       "      <td>10</td>\n",
       "      <td>0</td>\n",
       "    </tr>\n",
       "    <tr>\n",
       "      <th>4</th>\n",
       "      <td>3502</td>\n",
       "      <td>62</td>\n",
       "      <td>11</td>\n",
       "      <td>04-27</td>\n",
       "      <td>4</td>\n",
       "      <td>3</td>\n",
       "      <td>13</td>\n",
       "      <td>0</td>\n",
       "    </tr>\n",
       "  </tbody>\n",
       "</table>\n",
       "</div>"
      ],
      "text/plain": [
       "   OFFENSE_CODE  OFFENSE_DESCRIPTION  DISTRICT OCCURRED_ON_DATE  MONTH  \\\n",
       "0           520                   15         6            09-05      9   \n",
       "1          3821                   69         9            11-13     11   \n",
       "2          3114                    6         9            09-11      9   \n",
       "3          3801                   70         8            09-02      9   \n",
       "4          3502                   62        11            04-27      4   \n",
       "\n",
       "   DAY_OF_WEEK  HOUR  Severe_crimes  \n",
       "0            1     8              0  \n",
       "1            0    18              0  \n",
       "2            0     0              1  \n",
       "3            5    10              0  \n",
       "4            3    13              0  "
      ]
     },
     "execution_count": 19,
     "metadata": {},
     "output_type": "execute_result"
    }
   ],
   "source": [
    "train.head()"
   ]
  },
  {
   "cell_type": "code",
   "execution_count": 20,
   "metadata": {},
   "outputs": [
    {
     "data": {
      "text/plain": [
       "OFFENSE_CODE            int64\n",
       "OFFENSE_DESCRIPTION     int32\n",
       "DISTRICT                int32\n",
       "OCCURRED_ON_DATE       object\n",
       "MONTH                   int64\n",
       "DAY_OF_WEEK             int32\n",
       "HOUR                    int64\n",
       "Severe_crimes           int64\n",
       "dtype: object"
      ]
     },
     "execution_count": 20,
     "metadata": {},
     "output_type": "execute_result"
    }
   ],
   "source": [
    "# do the same for test and val data\n",
    "# add new label if the value is unseen in the training data\n",
    "test['OFFENSE_DESCRIPTION'] = test['OFFENSE_DESCRIPTION'].map(lambda s: '<unknown>' if s not in le_description.classes_ else s)\n",
    "val['OFFENSE_DESCRIPTION'] = val['OFFENSE_DESCRIPTION'].map(lambda s: '<unknown>' if s not in le_description.classes_ else s)\n",
    "\n",
    "# add new label if the value is unseen in the training data\n",
    "test['DISTRICT'] = test['DISTRICT'].map(lambda s: '<unknown>' if s not in le_district.classes_ else s)\n",
    "val['DISTRICT'] = val['DISTRICT'].map(lambda s: '<unknown>' if s not in le_district.classes_ else s)\n",
    "\n",
    "# add <unknown> to the classes\n",
    "le_description.classes_ = np.append(le_description.classes_, '<unknown>')\n",
    "le_district.classes_ = np.append(le_district.classes_, '<unknown>')\n",
    "\n",
    "\n",
    "\n",
    "# transform the label encoder\n",
    "test['OFFENSE_DESCRIPTION'] = le_description.transform(test['OFFENSE_DESCRIPTION'])\n",
    "val['OFFENSE_DESCRIPTION'] = le_description.transform(val['OFFENSE_DESCRIPTION'])\n",
    "\n",
    "test['DISTRICT'] = le_district.transform(test['DISTRICT'])\n",
    "val['DISTRICT'] = le_district.transform(val['DISTRICT'])\n",
    "\n",
    "# check the data types of each column\n",
    "train.dtypes\n",
    "\n",
    "\n",
    "\n",
    "\n"
   ]
  },
  {
   "cell_type": "code",
   "execution_count": null,
   "metadata": {},
   "outputs": [],
   "source": [
    "\n"
   ]
  },
  {
   "cell_type": "code",
   "execution_count": 21,
   "metadata": {},
   "outputs": [
    {
     "data": {
      "text/plain": [
       "Severe_crimes\n",
       "0    57521\n",
       "1     4171\n",
       "Name: count, dtype: int64"
      ]
     },
     "execution_count": 21,
     "metadata": {},
     "output_type": "execute_result"
    }
   ],
   "source": [
    "# show number of values in each column\n",
    "train.nunique()\n",
    "# show number of 1 and 0 in the Severe_crimes column\n",
    "train['Severe_crimes'].value_counts()"
   ]
  },
  {
   "cell_type": "code",
   "execution_count": 22,
   "metadata": {},
   "outputs": [],
   "source": [
    "\n",
    "\n",
    "# save the processed data\n",
    "train.to_csv('../data/processed/train_data_processed.csv', index=False)\n",
    "test.to_csv('../data/processed/test_data_processed.csv', index=False)\n",
    "val.to_csv('../data/processed/val_data_processed.csv', index=False)\n"
   ]
  },
  {
   "cell_type": "code",
   "execution_count": 23,
   "metadata": {},
   "outputs": [
    {
     "data": {
      "text/plain": [
       "['../models/le_district.pkl']"
      ]
     },
     "execution_count": 23,
     "metadata": {},
     "output_type": "execute_result"
    }
   ],
   "source": [
    "# save the label encoders\n",
    "import joblib\n",
    "joblib.dump(le_description, '../models/le_description.pkl')\n",
    "joblib.dump(le_district, '../models/le_district.pkl')\n",
    "\n"
   ]
  },
  {
   "cell_type": "markdown",
   "metadata": {},
   "source": [
    "### WEEK 5"
   ]
  },
  {
   "cell_type": "markdown",
   "metadata": {},
   "source": [
    "in week 4 we did encoding of all object varible, The reason i combine week4 and week5 is to fix the problem in week4's code"
   ]
  },
  {
   "cell_type": "code",
   "execution_count": 24,
   "metadata": {},
   "outputs": [
    {
     "data": {
      "text/plain": [
       "OFFENSE_CODE           116\n",
       "OFFENSE_DESCRIPTION    117\n",
       "DISTRICT                14\n",
       "OCCURRED_ON_DATE       365\n",
       "MONTH                   12\n",
       "DAY_OF_WEEK              7\n",
       "HOUR                    24\n",
       "Severe_crimes            2\n",
       "dtype: int64"
      ]
     },
     "execution_count": 24,
     "metadata": {},
     "output_type": "execute_result"
    }
   ],
   "source": [
    "# show number of unique values in each column\n",
    "train.nunique()\n"
   ]
  },
  {
   "cell_type": "markdown",
   "metadata": {},
   "source": [
    "# New features are already created within earlier notebooks that the column severe crime is the new feature. "
   ]
  },
  {
   "cell_type": "code",
   "execution_count": 25,
   "metadata": {},
   "outputs": [
    {
     "data": {
      "text/plain": [
       "OFFENSE_CODE           116\n",
       "OFFENSE_DESCRIPTION    117\n",
       "DISTRICT                14\n",
       "OCCURRED_ON_DATE       365\n",
       "MONTH                   12\n",
       "DAY_OF_WEEK              7\n",
       "HOUR                    24\n",
       "Severe_crimes            2\n",
       "dtype: int64"
      ]
     },
     "execution_count": 25,
     "metadata": {},
     "output_type": "execute_result"
    }
   ],
   "source": [
    "# add synthetic data to the training data\n",
    "# add 1000 rows of synthetic data\n",
    "synthetic_data = train.sample(n=1000, replace=True)\n",
    "train = pd.concat([train, synthetic_data])\n",
    "\n",
    "# show number of unique values in each column\n",
    "train.nunique()\n"
   ]
  },
  {
   "cell_type": "code",
   "execution_count": 26,
   "metadata": {},
   "outputs": [
    {
     "data": {
      "text/plain": [
       "Severe_crimes\n",
       "0    58467\n",
       "1     4225\n",
       "Name: count, dtype: int64"
      ]
     },
     "execution_count": 26,
     "metadata": {},
     "output_type": "execute_result"
    }
   ],
   "source": [
    "# count the number of 1 and 0 in the Severe_crimes column\n",
    "train['Severe_crimes'].value_counts()\n"
   ]
  }
 ],
 "metadata": {
  "kernelspec": {
   "display_name": "BCAIML",
   "language": "python",
   "name": "python3"
  },
  "language_info": {
   "codemirror_mode": {
    "name": "ipython",
    "version": 3
   },
   "file_extension": ".py",
   "mimetype": "text/x-python",
   "name": "python",
   "nbconvert_exporter": "python",
   "pygments_lexer": "ipython3",
   "version": "3.11.5"
  }
 },
 "nbformat": 4,
 "nbformat_minor": 2
}
